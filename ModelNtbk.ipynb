{
 "cells": [
  {
   "cell_type": "markdown",
   "id": "0380c695-6394-49ba-b036-191ad95dcdcb",
   "metadata": {},
   "source": [
    "## Email spam detection machine learning model"
   ]
  },
  {
   "cell_type": "code",
   "execution_count": null,
   "id": "10e06483-c325-4f8e-927a-eb0b84a3c18f",
   "metadata": {},
   "outputs": [],
   "source": [
    "import pandas as pd\n",
    "import numpy as np\n"
   ]
  }
 ],
 "metadata": {
  "kernelspec": {
   "display_name": "Python 3 (ipykernel)",
   "language": "python",
   "name": "python3"
  },
  "language_info": {
   "codemirror_mode": {
    "name": "ipython",
    "version": 3
   },
   "file_extension": ".py",
   "mimetype": "text/x-python",
   "name": "python",
   "nbconvert_exporter": "python",
   "pygments_lexer": "ipython3",
   "version": "3.11.9"
  }
 },
 "nbformat": 4,
 "nbformat_minor": 5
}
